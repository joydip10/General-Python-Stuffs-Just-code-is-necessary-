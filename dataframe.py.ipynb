{
 "cells": [
  {
   "cell_type": "code",
   "execution_count": 1,
   "metadata": {},
   "outputs": [
    {
     "data": {
      "text/html": [
       "<div>\n",
       "<style scoped>\n",
       "    .dataframe tbody tr th:only-of-type {\n",
       "        vertical-align: middle;\n",
       "    }\n",
       "\n",
       "    .dataframe tbody tr th {\n",
       "        vertical-align: top;\n",
       "    }\n",
       "\n",
       "    .dataframe thead th {\n",
       "        text-align: right;\n",
       "    }\n",
       "</style>\n",
       "<table border=\"1\" class=\"dataframe\">\n",
       "  <thead>\n",
       "    <tr style=\"text-align: right;\">\n",
       "      <th></th>\n",
       "      <th>budget</th>\n",
       "      <th>genres</th>\n",
       "      <th>homepage</th>\n",
       "      <th>id</th>\n",
       "      <th>keywords</th>\n",
       "      <th>original_language</th>\n",
       "      <th>overview</th>\n",
       "      <th>popularity</th>\n",
       "      <th>production_companies</th>\n",
       "      <th>production_countries</th>\n",
       "      <th>release_date</th>\n",
       "      <th>revenue</th>\n",
       "      <th>runtime</th>\n",
       "      <th>spoken_languages</th>\n",
       "      <th>status</th>\n",
       "      <th>tagline</th>\n",
       "      <th>title</th>\n",
       "      <th>vote_average</th>\n",
       "      <th>vote_count</th>\n",
       "    </tr>\n",
       "    <tr>\n",
       "      <th>original_title</th>\n",
       "      <th></th>\n",
       "      <th></th>\n",
       "      <th></th>\n",
       "      <th></th>\n",
       "      <th></th>\n",
       "      <th></th>\n",
       "      <th></th>\n",
       "      <th></th>\n",
       "      <th></th>\n",
       "      <th></th>\n",
       "      <th></th>\n",
       "      <th></th>\n",
       "      <th></th>\n",
       "      <th></th>\n",
       "      <th></th>\n",
       "      <th></th>\n",
       "      <th></th>\n",
       "      <th></th>\n",
       "      <th></th>\n",
       "    </tr>\n",
       "  </thead>\n",
       "  <tbody>\n",
       "    <tr>\n",
       "      <th>Avatar</th>\n",
       "      <td>237000000</td>\n",
       "      <td>[{\"id\": 28, \"name\": \"Action\"}, {\"id\": 12, \"nam...</td>\n",
       "      <td>http://www.avatarmovie.com/</td>\n",
       "      <td>19995</td>\n",
       "      <td>[{\"id\": 1463, \"name\": \"culture clash\"}, {\"id\":...</td>\n",
       "      <td>en</td>\n",
       "      <td>In the 22nd century, a paraplegic Marine is di...</td>\n",
       "      <td>150.437577</td>\n",
       "      <td>[{\"name\": \"Ingenious Film Partners\", \"id\": 289...</td>\n",
       "      <td>[{\"iso_3166_1\": \"US\", \"name\": \"United States o...</td>\n",
       "      <td>2009-12-10</td>\n",
       "      <td>2787965087</td>\n",
       "      <td>162.0</td>\n",
       "      <td>[{\"iso_639_1\": \"en\", \"name\": \"English\"}, {\"iso...</td>\n",
       "      <td>Released</td>\n",
       "      <td>Enter the World of Pandora.</td>\n",
       "      <td>Avatar</td>\n",
       "      <td>7.2</td>\n",
       "      <td>11800</td>\n",
       "    </tr>\n",
       "    <tr>\n",
       "      <th>Pirates of the Caribbean: At World's End</th>\n",
       "      <td>300000000</td>\n",
       "      <td>[{\"id\": 12, \"name\": \"Adventure\"}, {\"id\": 14, \"...</td>\n",
       "      <td>http://disney.go.com/disneypictures/pirates/</td>\n",
       "      <td>285</td>\n",
       "      <td>[{\"id\": 270, \"name\": \"ocean\"}, {\"id\": 726, \"na...</td>\n",
       "      <td>en</td>\n",
       "      <td>Captain Barbossa, long believed to be dead, ha...</td>\n",
       "      <td>139.082615</td>\n",
       "      <td>[{\"name\": \"Walt Disney Pictures\", \"id\": 2}, {\"...</td>\n",
       "      <td>[{\"iso_3166_1\": \"US\", \"name\": \"United States o...</td>\n",
       "      <td>2007-05-19</td>\n",
       "      <td>961000000</td>\n",
       "      <td>169.0</td>\n",
       "      <td>[{\"iso_639_1\": \"en\", \"name\": \"English\"}]</td>\n",
       "      <td>Released</td>\n",
       "      <td>At the end of the world, the adventure begins.</td>\n",
       "      <td>Pirates of the Caribbean: At World's End</td>\n",
       "      <td>6.9</td>\n",
       "      <td>4500</td>\n",
       "    </tr>\n",
       "    <tr>\n",
       "      <th>Spectre</th>\n",
       "      <td>245000000</td>\n",
       "      <td>[{\"id\": 28, \"name\": \"Action\"}, {\"id\": 12, \"nam...</td>\n",
       "      <td>http://www.sonypictures.com/movies/spectre/</td>\n",
       "      <td>206647</td>\n",
       "      <td>[{\"id\": 470, \"name\": \"spy\"}, {\"id\": 818, \"name...</td>\n",
       "      <td>en</td>\n",
       "      <td>A cryptic message from Bond’s past sends him o...</td>\n",
       "      <td>107.376788</td>\n",
       "      <td>[{\"name\": \"Columbia Pictures\", \"id\": 5}, {\"nam...</td>\n",
       "      <td>[{\"iso_3166_1\": \"GB\", \"name\": \"United Kingdom\"...</td>\n",
       "      <td>2015-10-26</td>\n",
       "      <td>880674609</td>\n",
       "      <td>148.0</td>\n",
       "      <td>[{\"iso_639_1\": \"fr\", \"name\": \"Fran\\u00e7ais\"},...</td>\n",
       "      <td>Released</td>\n",
       "      <td>A Plan No One Escapes</td>\n",
       "      <td>Spectre</td>\n",
       "      <td>6.3</td>\n",
       "      <td>4466</td>\n",
       "    </tr>\n",
       "    <tr>\n",
       "      <th>The Dark Knight Rises</th>\n",
       "      <td>250000000</td>\n",
       "      <td>[{\"id\": 28, \"name\": \"Action\"}, {\"id\": 80, \"nam...</td>\n",
       "      <td>http://www.thedarkknightrises.com/</td>\n",
       "      <td>49026</td>\n",
       "      <td>[{\"id\": 849, \"name\": \"dc comics\"}, {\"id\": 853,...</td>\n",
       "      <td>en</td>\n",
       "      <td>Following the death of District Attorney Harve...</td>\n",
       "      <td>112.312950</td>\n",
       "      <td>[{\"name\": \"Legendary Pictures\", \"id\": 923}, {\"...</td>\n",
       "      <td>[{\"iso_3166_1\": \"US\", \"name\": \"United States o...</td>\n",
       "      <td>2012-07-16</td>\n",
       "      <td>1084939099</td>\n",
       "      <td>165.0</td>\n",
       "      <td>[{\"iso_639_1\": \"en\", \"name\": \"English\"}]</td>\n",
       "      <td>Released</td>\n",
       "      <td>The Legend Ends</td>\n",
       "      <td>The Dark Knight Rises</td>\n",
       "      <td>7.6</td>\n",
       "      <td>9106</td>\n",
       "    </tr>\n",
       "    <tr>\n",
       "      <th>John Carter</th>\n",
       "      <td>260000000</td>\n",
       "      <td>[{\"id\": 28, \"name\": \"Action\"}, {\"id\": 12, \"nam...</td>\n",
       "      <td>http://movies.disney.com/john-carter</td>\n",
       "      <td>49529</td>\n",
       "      <td>[{\"id\": 818, \"name\": \"based on novel\"}, {\"id\":...</td>\n",
       "      <td>en</td>\n",
       "      <td>John Carter is a war-weary, former military ca...</td>\n",
       "      <td>43.926995</td>\n",
       "      <td>[{\"name\": \"Walt Disney Pictures\", \"id\": 2}]</td>\n",
       "      <td>[{\"iso_3166_1\": \"US\", \"name\": \"United States o...</td>\n",
       "      <td>2012-03-07</td>\n",
       "      <td>284139100</td>\n",
       "      <td>132.0</td>\n",
       "      <td>[{\"iso_639_1\": \"en\", \"name\": \"English\"}]</td>\n",
       "      <td>Released</td>\n",
       "      <td>Lost in our world, found in another.</td>\n",
       "      <td>John Carter</td>\n",
       "      <td>6.1</td>\n",
       "      <td>2124</td>\n",
       "    </tr>\n",
       "  </tbody>\n",
       "</table>\n",
       "</div>"
      ],
      "text/plain": [
       "                                             budget  \\\n",
       "original_title                                        \n",
       "Avatar                                    237000000   \n",
       "Pirates of the Caribbean: At World's End  300000000   \n",
       "Spectre                                   245000000   \n",
       "The Dark Knight Rises                     250000000   \n",
       "John Carter                               260000000   \n",
       "\n",
       "                                                                                     genres  \\\n",
       "original_title                                                                                \n",
       "Avatar                                    [{\"id\": 28, \"name\": \"Action\"}, {\"id\": 12, \"nam...   \n",
       "Pirates of the Caribbean: At World's End  [{\"id\": 12, \"name\": \"Adventure\"}, {\"id\": 14, \"...   \n",
       "Spectre                                   [{\"id\": 28, \"name\": \"Action\"}, {\"id\": 12, \"nam...   \n",
       "The Dark Knight Rises                     [{\"id\": 28, \"name\": \"Action\"}, {\"id\": 80, \"nam...   \n",
       "John Carter                               [{\"id\": 28, \"name\": \"Action\"}, {\"id\": 12, \"nam...   \n",
       "\n",
       "                                                                              homepage  \\\n",
       "original_title                                                                           \n",
       "Avatar                                                     http://www.avatarmovie.com/   \n",
       "Pirates of the Caribbean: At World's End  http://disney.go.com/disneypictures/pirates/   \n",
       "Spectre                                    http://www.sonypictures.com/movies/spectre/   \n",
       "The Dark Knight Rises                               http://www.thedarkknightrises.com/   \n",
       "John Carter                                       http://movies.disney.com/john-carter   \n",
       "\n",
       "                                              id  \\\n",
       "original_title                                     \n",
       "Avatar                                     19995   \n",
       "Pirates of the Caribbean: At World's End     285   \n",
       "Spectre                                   206647   \n",
       "The Dark Knight Rises                      49026   \n",
       "John Carter                                49529   \n",
       "\n",
       "                                                                                   keywords  \\\n",
       "original_title                                                                                \n",
       "Avatar                                    [{\"id\": 1463, \"name\": \"culture clash\"}, {\"id\":...   \n",
       "Pirates of the Caribbean: At World's End  [{\"id\": 270, \"name\": \"ocean\"}, {\"id\": 726, \"na...   \n",
       "Spectre                                   [{\"id\": 470, \"name\": \"spy\"}, {\"id\": 818, \"name...   \n",
       "The Dark Knight Rises                     [{\"id\": 849, \"name\": \"dc comics\"}, {\"id\": 853,...   \n",
       "John Carter                               [{\"id\": 818, \"name\": \"based on novel\"}, {\"id\":...   \n",
       "\n",
       "                                         original_language  \\\n",
       "original_title                                               \n",
       "Avatar                                                  en   \n",
       "Pirates of the Caribbean: At World's End                en   \n",
       "Spectre                                                 en   \n",
       "The Dark Knight Rises                                   en   \n",
       "John Carter                                             en   \n",
       "\n",
       "                                                                                   overview  \\\n",
       "original_title                                                                                \n",
       "Avatar                                    In the 22nd century, a paraplegic Marine is di...   \n",
       "Pirates of the Caribbean: At World's End  Captain Barbossa, long believed to be dead, ha...   \n",
       "Spectre                                   A cryptic message from Bond’s past sends him o...   \n",
       "The Dark Knight Rises                     Following the death of District Attorney Harve...   \n",
       "John Carter                               John Carter is a war-weary, former military ca...   \n",
       "\n",
       "                                          popularity  \\\n",
       "original_title                                         \n",
       "Avatar                                    150.437577   \n",
       "Pirates of the Caribbean: At World's End  139.082615   \n",
       "Spectre                                   107.376788   \n",
       "The Dark Knight Rises                     112.312950   \n",
       "John Carter                                43.926995   \n",
       "\n",
       "                                                                       production_companies  \\\n",
       "original_title                                                                                \n",
       "Avatar                                    [{\"name\": \"Ingenious Film Partners\", \"id\": 289...   \n",
       "Pirates of the Caribbean: At World's End  [{\"name\": \"Walt Disney Pictures\", \"id\": 2}, {\"...   \n",
       "Spectre                                   [{\"name\": \"Columbia Pictures\", \"id\": 5}, {\"nam...   \n",
       "The Dark Knight Rises                     [{\"name\": \"Legendary Pictures\", \"id\": 923}, {\"...   \n",
       "John Carter                                     [{\"name\": \"Walt Disney Pictures\", \"id\": 2}]   \n",
       "\n",
       "                                                                       production_countries  \\\n",
       "original_title                                                                                \n",
       "Avatar                                    [{\"iso_3166_1\": \"US\", \"name\": \"United States o...   \n",
       "Pirates of the Caribbean: At World's End  [{\"iso_3166_1\": \"US\", \"name\": \"United States o...   \n",
       "Spectre                                   [{\"iso_3166_1\": \"GB\", \"name\": \"United Kingdom\"...   \n",
       "The Dark Knight Rises                     [{\"iso_3166_1\": \"US\", \"name\": \"United States o...   \n",
       "John Carter                               [{\"iso_3166_1\": \"US\", \"name\": \"United States o...   \n",
       "\n",
       "                                         release_date     revenue  runtime  \\\n",
       "original_title                                                               \n",
       "Avatar                                     2009-12-10  2787965087    162.0   \n",
       "Pirates of the Caribbean: At World's End   2007-05-19   961000000    169.0   \n",
       "Spectre                                    2015-10-26   880674609    148.0   \n",
       "The Dark Knight Rises                      2012-07-16  1084939099    165.0   \n",
       "John Carter                                2012-03-07   284139100    132.0   \n",
       "\n",
       "                                                                           spoken_languages  \\\n",
       "original_title                                                                                \n",
       "Avatar                                    [{\"iso_639_1\": \"en\", \"name\": \"English\"}, {\"iso...   \n",
       "Pirates of the Caribbean: At World's End           [{\"iso_639_1\": \"en\", \"name\": \"English\"}]   \n",
       "Spectre                                   [{\"iso_639_1\": \"fr\", \"name\": \"Fran\\u00e7ais\"},...   \n",
       "The Dark Knight Rises                              [{\"iso_639_1\": \"en\", \"name\": \"English\"}]   \n",
       "John Carter                                        [{\"iso_639_1\": \"en\", \"name\": \"English\"}]   \n",
       "\n",
       "                                            status  \\\n",
       "original_title                                       \n",
       "Avatar                                    Released   \n",
       "Pirates of the Caribbean: At World's End  Released   \n",
       "Spectre                                   Released   \n",
       "The Dark Knight Rises                     Released   \n",
       "John Carter                               Released   \n",
       "\n",
       "                                                                                 tagline  \\\n",
       "original_title                                                                             \n",
       "Avatar                                                       Enter the World of Pandora.   \n",
       "Pirates of the Caribbean: At World's End  At the end of the world, the adventure begins.   \n",
       "Spectre                                                            A Plan No One Escapes   \n",
       "The Dark Knight Rises                                                    The Legend Ends   \n",
       "John Carter                                         Lost in our world, found in another.   \n",
       "\n",
       "                                                                             title  \\\n",
       "original_title                                                                       \n",
       "Avatar                                                                      Avatar   \n",
       "Pirates of the Caribbean: At World's End  Pirates of the Caribbean: At World's End   \n",
       "Spectre                                                                    Spectre   \n",
       "The Dark Knight Rises                                        The Dark Knight Rises   \n",
       "John Carter                                                            John Carter   \n",
       "\n",
       "                                          vote_average  vote_count  \n",
       "original_title                                                      \n",
       "Avatar                                             7.2       11800  \n",
       "Pirates of the Caribbean: At World's End           6.9        4500  \n",
       "Spectre                                            6.3        4466  \n",
       "The Dark Knight Rises                              7.6        9106  \n",
       "John Carter                                        6.1        2124  "
      ]
     },
     "execution_count": 1,
     "metadata": {},
     "output_type": "execute_result"
    }
   ],
   "source": [
    "import pandas as pd\n",
    "m_data=pd.read_csv('C:\\\\Users\\\\JOY STARK\\\\Desktop\\\\Datasets\\\\tmdb-movie-metadata\\\\datas.csv',index_col='original_title')\n",
    "m_data.head(5)"
   ]
  },
  {
   "cell_type": "code",
   "execution_count": 2,
   "metadata": {},
   "outputs": [
    {
     "data": {
      "text/html": [
       "<div>\n",
       "<style scoped>\n",
       "    .dataframe tbody tr th:only-of-type {\n",
       "        vertical-align: middle;\n",
       "    }\n",
       "\n",
       "    .dataframe tbody tr th {\n",
       "        vertical-align: top;\n",
       "    }\n",
       "\n",
       "    .dataframe thead th {\n",
       "        text-align: right;\n",
       "    }\n",
       "</style>\n",
       "<table border=\"1\" class=\"dataframe\">\n",
       "  <thead>\n",
       "    <tr style=\"text-align: right;\">\n",
       "      <th></th>\n",
       "      <th>budget</th>\n",
       "    </tr>\n",
       "    <tr>\n",
       "      <th>original_title</th>\n",
       "      <th></th>\n",
       "    </tr>\n",
       "  </thead>\n",
       "  <tbody>\n",
       "    <tr>\n",
       "      <th>Avatar</th>\n",
       "      <td>237000000</td>\n",
       "    </tr>\n",
       "    <tr>\n",
       "      <th>Pirates of the Caribbean: At World's End</th>\n",
       "      <td>300000000</td>\n",
       "    </tr>\n",
       "    <tr>\n",
       "      <th>Spectre</th>\n",
       "      <td>245000000</td>\n",
       "    </tr>\n",
       "    <tr>\n",
       "      <th>The Dark Knight Rises</th>\n",
       "      <td>250000000</td>\n",
       "    </tr>\n",
       "    <tr>\n",
       "      <th>John Carter</th>\n",
       "      <td>260000000</td>\n",
       "    </tr>\n",
       "    <tr>\n",
       "      <th>Spider-Man 3</th>\n",
       "      <td>258000000</td>\n",
       "    </tr>\n",
       "  </tbody>\n",
       "</table>\n",
       "</div>"
      ],
      "text/plain": [
       "                                             budget\n",
       "original_title                                     \n",
       "Avatar                                    237000000\n",
       "Pirates of the Caribbean: At World's End  300000000\n",
       "Spectre                                   245000000\n",
       "The Dark Knight Rises                     250000000\n",
       "John Carter                               260000000\n",
       "Spider-Man 3                              258000000"
      ]
     },
     "execution_count": 2,
     "metadata": {},
     "output_type": "execute_result"
    }
   ],
   "source": [
    "m_data.iloc[[0,1,2,3,4,5],[0]]"
   ]
  },
  {
   "cell_type": "code",
   "execution_count": 3,
   "metadata": {},
   "outputs": [
    {
     "data": {
      "text/html": [
       "<div>\n",
       "<style scoped>\n",
       "    .dataframe tbody tr th:only-of-type {\n",
       "        vertical-align: middle;\n",
       "    }\n",
       "\n",
       "    .dataframe tbody tr th {\n",
       "        vertical-align: top;\n",
       "    }\n",
       "\n",
       "    .dataframe thead th {\n",
       "        text-align: right;\n",
       "    }\n",
       "</style>\n",
       "<table border=\"1\" class=\"dataframe\">\n",
       "  <thead>\n",
       "    <tr style=\"text-align: right;\">\n",
       "      <th></th>\n",
       "      <th>budget</th>\n",
       "      <th>original_language</th>\n",
       "    </tr>\n",
       "    <tr>\n",
       "      <th>original_title</th>\n",
       "      <th></th>\n",
       "      <th></th>\n",
       "    </tr>\n",
       "  </thead>\n",
       "  <tbody>\n",
       "    <tr>\n",
       "      <th>Avatar</th>\n",
       "      <td>237000000</td>\n",
       "      <td>en</td>\n",
       "    </tr>\n",
       "    <tr>\n",
       "      <th>Spectre</th>\n",
       "      <td>245000000</td>\n",
       "      <td>en</td>\n",
       "    </tr>\n",
       "  </tbody>\n",
       "</table>\n",
       "</div>"
      ],
      "text/plain": [
       "                   budget original_language\n",
       "original_title                             \n",
       "Avatar          237000000                en\n",
       "Spectre         245000000                en"
      ]
     },
     "execution_count": 3,
     "metadata": {},
     "output_type": "execute_result"
    }
   ],
   "source": [
    "m_data.loc[['Avatar','Spectre'],['budget','original_language']]"
   ]
  },
  {
   "cell_type": "code",
   "execution_count": 4,
   "metadata": {},
   "outputs": [
    {
     "name": "stdout",
     "output_type": "stream",
     "text": [
      "top five happiest countries: \n"
     ]
    },
    {
     "data": {
      "text/html": [
       "<div>\n",
       "<style scoped>\n",
       "    .dataframe tbody tr th:only-of-type {\n",
       "        vertical-align: middle;\n",
       "    }\n",
       "\n",
       "    .dataframe tbody tr th {\n",
       "        vertical-align: top;\n",
       "    }\n",
       "\n",
       "    .dataframe thead th {\n",
       "        text-align: right;\n",
       "    }\n",
       "</style>\n",
       "<table border=\"1\" class=\"dataframe\">\n",
       "  <thead>\n",
       "    <tr style=\"text-align: right;\">\n",
       "      <th></th>\n",
       "      <th>Overall rank</th>\n",
       "      <th>Country or region</th>\n",
       "      <th>Score</th>\n",
       "      <th>GDP per capita</th>\n",
       "      <th>Social support</th>\n",
       "      <th>Healthy life expectancy</th>\n",
       "      <th>Freedom to make life choices</th>\n",
       "      <th>Generosity</th>\n",
       "      <th>Perceptions of corruption</th>\n",
       "    </tr>\n",
       "  </thead>\n",
       "  <tbody>\n",
       "    <tr>\n",
       "      <th>0</th>\n",
       "      <td>1</td>\n",
       "      <td>Finland</td>\n",
       "      <td>7.769</td>\n",
       "      <td>1.340</td>\n",
       "      <td>1.587</td>\n",
       "      <td>0.986</td>\n",
       "      <td>0.596</td>\n",
       "      <td>0.153</td>\n",
       "      <td>0.393</td>\n",
       "    </tr>\n",
       "    <tr>\n",
       "      <th>1</th>\n",
       "      <td>2</td>\n",
       "      <td>Denmark</td>\n",
       "      <td>7.600</td>\n",
       "      <td>1.383</td>\n",
       "      <td>1.573</td>\n",
       "      <td>0.996</td>\n",
       "      <td>0.592</td>\n",
       "      <td>0.252</td>\n",
       "      <td>0.410</td>\n",
       "    </tr>\n",
       "    <tr>\n",
       "      <th>2</th>\n",
       "      <td>3</td>\n",
       "      <td>Norway</td>\n",
       "      <td>7.554</td>\n",
       "      <td>1.488</td>\n",
       "      <td>1.582</td>\n",
       "      <td>1.028</td>\n",
       "      <td>0.603</td>\n",
       "      <td>0.271</td>\n",
       "      <td>0.341</td>\n",
       "    </tr>\n",
       "    <tr>\n",
       "      <th>3</th>\n",
       "      <td>4</td>\n",
       "      <td>Iceland</td>\n",
       "      <td>7.494</td>\n",
       "      <td>1.380</td>\n",
       "      <td>1.624</td>\n",
       "      <td>1.026</td>\n",
       "      <td>0.591</td>\n",
       "      <td>0.354</td>\n",
       "      <td>0.118</td>\n",
       "    </tr>\n",
       "    <tr>\n",
       "      <th>4</th>\n",
       "      <td>5</td>\n",
       "      <td>Netherlands</td>\n",
       "      <td>7.488</td>\n",
       "      <td>1.396</td>\n",
       "      <td>1.522</td>\n",
       "      <td>0.999</td>\n",
       "      <td>0.557</td>\n",
       "      <td>0.322</td>\n",
       "      <td>0.298</td>\n",
       "    </tr>\n",
       "  </tbody>\n",
       "</table>\n",
       "</div>"
      ],
      "text/plain": [
       "   Overall rank Country or region  Score  GDP per capita  Social support  \\\n",
       "0             1           Finland  7.769           1.340           1.587   \n",
       "1             2           Denmark  7.600           1.383           1.573   \n",
       "2             3            Norway  7.554           1.488           1.582   \n",
       "3             4           Iceland  7.494           1.380           1.624   \n",
       "4             5       Netherlands  7.488           1.396           1.522   \n",
       "\n",
       "   Healthy life expectancy  Freedom to make life choices  Generosity  \\\n",
       "0                    0.986                         0.596       0.153   \n",
       "1                    0.996                         0.592       0.252   \n",
       "2                    1.028                         0.603       0.271   \n",
       "3                    1.026                         0.591       0.354   \n",
       "4                    0.999                         0.557       0.322   \n",
       "\n",
       "   Perceptions of corruption  \n",
       "0                      0.393  \n",
       "1                      0.410  \n",
       "2                      0.341  \n",
       "3                      0.118  \n",
       "4                      0.298  "
      ]
     },
     "execution_count": 4,
     "metadata": {},
     "output_type": "execute_result"
    }
   ],
   "source": [
    "h_data=pd.read_csv('C:\\\\Users\\\\JOY STARK\\\\Desktop\\\\Datasets\\\\world-happiness\\\\2019.csv')\n",
    "print('top five happiest countries: ')\n",
    "h_data.head(5)\n"
   ]
  },
  {
   "cell_type": "code",
   "execution_count": 5,
   "metadata": {},
   "outputs": [
    {
     "name": "stdout",
     "output_type": "stream",
     "text": [
      "top five less happy countries:\n"
     ]
    },
    {
     "data": {
      "text/html": [
       "<div>\n",
       "<style scoped>\n",
       "    .dataframe tbody tr th:only-of-type {\n",
       "        vertical-align: middle;\n",
       "    }\n",
       "\n",
       "    .dataframe tbody tr th {\n",
       "        vertical-align: top;\n",
       "    }\n",
       "\n",
       "    .dataframe thead th {\n",
       "        text-align: right;\n",
       "    }\n",
       "</style>\n",
       "<table border=\"1\" class=\"dataframe\">\n",
       "  <thead>\n",
       "    <tr style=\"text-align: right;\">\n",
       "      <th></th>\n",
       "      <th>Overall rank</th>\n",
       "      <th>Country or region</th>\n",
       "      <th>Score</th>\n",
       "      <th>GDP per capita</th>\n",
       "      <th>Social support</th>\n",
       "      <th>Healthy life expectancy</th>\n",
       "      <th>Freedom to make life choices</th>\n",
       "      <th>Generosity</th>\n",
       "      <th>Perceptions of corruption</th>\n",
       "    </tr>\n",
       "  </thead>\n",
       "  <tbody>\n",
       "    <tr>\n",
       "      <th>151</th>\n",
       "      <td>152</td>\n",
       "      <td>Rwanda</td>\n",
       "      <td>3.334</td>\n",
       "      <td>0.359</td>\n",
       "      <td>0.711</td>\n",
       "      <td>0.614</td>\n",
       "      <td>0.555</td>\n",
       "      <td>0.217</td>\n",
       "      <td>0.411</td>\n",
       "    </tr>\n",
       "    <tr>\n",
       "      <th>152</th>\n",
       "      <td>153</td>\n",
       "      <td>Tanzania</td>\n",
       "      <td>3.231</td>\n",
       "      <td>0.476</td>\n",
       "      <td>0.885</td>\n",
       "      <td>0.499</td>\n",
       "      <td>0.417</td>\n",
       "      <td>0.276</td>\n",
       "      <td>0.147</td>\n",
       "    </tr>\n",
       "    <tr>\n",
       "      <th>153</th>\n",
       "      <td>154</td>\n",
       "      <td>Afghanistan</td>\n",
       "      <td>3.203</td>\n",
       "      <td>0.350</td>\n",
       "      <td>0.517</td>\n",
       "      <td>0.361</td>\n",
       "      <td>0.000</td>\n",
       "      <td>0.158</td>\n",
       "      <td>0.025</td>\n",
       "    </tr>\n",
       "    <tr>\n",
       "      <th>154</th>\n",
       "      <td>155</td>\n",
       "      <td>Central African Republic</td>\n",
       "      <td>3.083</td>\n",
       "      <td>0.026</td>\n",
       "      <td>0.000</td>\n",
       "      <td>0.105</td>\n",
       "      <td>0.225</td>\n",
       "      <td>0.235</td>\n",
       "      <td>0.035</td>\n",
       "    </tr>\n",
       "    <tr>\n",
       "      <th>155</th>\n",
       "      <td>156</td>\n",
       "      <td>South Sudan</td>\n",
       "      <td>2.853</td>\n",
       "      <td>0.306</td>\n",
       "      <td>0.575</td>\n",
       "      <td>0.295</td>\n",
       "      <td>0.010</td>\n",
       "      <td>0.202</td>\n",
       "      <td>0.091</td>\n",
       "    </tr>\n",
       "  </tbody>\n",
       "</table>\n",
       "</div>"
      ],
      "text/plain": [
       "     Overall rank         Country or region  Score  GDP per capita  \\\n",
       "151           152                    Rwanda  3.334           0.359   \n",
       "152           153                  Tanzania  3.231           0.476   \n",
       "153           154               Afghanistan  3.203           0.350   \n",
       "154           155  Central African Republic  3.083           0.026   \n",
       "155           156               South Sudan  2.853           0.306   \n",
       "\n",
       "     Social support  Healthy life expectancy  Freedom to make life choices  \\\n",
       "151           0.711                    0.614                         0.555   \n",
       "152           0.885                    0.499                         0.417   \n",
       "153           0.517                    0.361                         0.000   \n",
       "154           0.000                    0.105                         0.225   \n",
       "155           0.575                    0.295                         0.010   \n",
       "\n",
       "     Generosity  Perceptions of corruption  \n",
       "151       0.217                      0.411  \n",
       "152       0.276                      0.147  \n",
       "153       0.158                      0.025  \n",
       "154       0.235                      0.035  \n",
       "155       0.202                      0.091  "
      ]
     },
     "execution_count": 5,
     "metadata": {},
     "output_type": "execute_result"
    }
   ],
   "source": [
    "print('top five less happy countries:')\n",
    "h_data.tail(5)"
   ]
  },
  {
   "cell_type": "code",
   "execution_count": 6,
   "metadata": {},
   "outputs": [
    {
     "data": {
      "text/plain": [
       "Index(['Overall rank', 'Country or region', 'Score', 'GDP per capita',\n",
       "       'Social support', 'Healthy life expectancy',\n",
       "       'Freedom to make life choices', 'Generosity',\n",
       "       'Perceptions of corruption'],\n",
       "      dtype='object')"
      ]
     },
     "execution_count": 6,
     "metadata": {},
     "output_type": "execute_result"
    }
   ],
   "source": [
    "h_data.columns"
   ]
  },
  {
   "cell_type": "code",
   "execution_count": 7,
   "metadata": {},
   "outputs": [
    {
     "data": {
      "text/plain": [
       "5     Switzerland\n",
       "6          Sweden\n",
       "7     New Zealand\n",
       "8          Canada\n",
       "9         Austria\n",
       "10      Australia\n",
       "Name: Country or region, dtype: object"
      ]
     },
     "execution_count": 7,
     "metadata": {},
     "output_type": "execute_result"
    }
   ],
   "source": [
    "h_data.iloc[5:11,1]"
   ]
  },
  {
   "cell_type": "code",
   "execution_count": 8,
   "metadata": {},
   "outputs": [
    {
     "data": {
      "text/plain": [
       "5     Switzerland\n",
       "6          Sweden\n",
       "7     New Zealand\n",
       "8          Canada\n",
       "9         Austria\n",
       "10      Australia\n",
       "11     Costa Rica\n",
       "Name: Country or region, dtype: object"
      ]
     },
     "execution_count": 8,
     "metadata": {},
     "output_type": "execute_result"
    }
   ],
   "source": [
    "h_data.loc[5:11,'Country or region']"
   ]
  },
  {
   "cell_type": "code",
   "execution_count": 9,
   "metadata": {},
   "outputs": [
    {
     "data": {
      "text/plain": [
       "125"
      ]
     },
     "execution_count": 9,
     "metadata": {},
     "output_type": "execute_result"
    }
   ],
   "source": [
    "h_data=pd.read_csv(r'C:\\Users\\JOY STARK\\Desktop\\Datasets\\world-happiness\\2019.csv',index_col='Country or region')\n",
    "h_data.loc['Bangladesh','Overall rank']"
   ]
  },
  {
   "cell_type": "code",
   "execution_count": 10,
   "metadata": {},
   "outputs": [
    {
     "data": {
      "text/plain": [
       "58"
      ]
     },
     "execution_count": 10,
     "metadata": {},
     "output_type": "execute_result"
    }
   ],
   "source": [
    "h_data.loc['Japan','Overall rank']\n"
   ]
  },
  {
   "cell_type": "code",
   "execution_count": 11,
   "metadata": {},
   "outputs": [
    {
     "data": {
      "text/plain": [
       "140"
      ]
     },
     "execution_count": 11,
     "metadata": {},
     "output_type": "execute_result"
    }
   ],
   "source": [
    "h_data.loc['India','Overall rank']\n"
   ]
  },
  {
   "cell_type": "code",
   "execution_count": 12,
   "metadata": {},
   "outputs": [
    {
     "data": {
      "text/plain": [
       "67"
      ]
     },
     "execution_count": 12,
     "metadata": {},
     "output_type": "execute_result"
    }
   ],
   "source": [
    "h_data.loc['Pakistan','Overall rank']"
   ]
  },
  {
   "cell_type": "code",
   "execution_count": 13,
   "metadata": {},
   "outputs": [
    {
     "data": {
      "text/html": [
       "<div>\n",
       "<style scoped>\n",
       "    .dataframe tbody tr th:only-of-type {\n",
       "        vertical-align: middle;\n",
       "    }\n",
       "\n",
       "    .dataframe tbody tr th {\n",
       "        vertical-align: top;\n",
       "    }\n",
       "\n",
       "    .dataframe thead th {\n",
       "        text-align: right;\n",
       "    }\n",
       "</style>\n",
       "<table border=\"1\" class=\"dataframe\">\n",
       "  <thead>\n",
       "    <tr style=\"text-align: right;\">\n",
       "      <th></th>\n",
       "      <th>Overall rank</th>\n",
       "    </tr>\n",
       "    <tr>\n",
       "      <th>Country or region</th>\n",
       "      <th></th>\n",
       "    </tr>\n",
       "  </thead>\n",
       "  <tbody>\n",
       "    <tr>\n",
       "      <th>Finland</th>\n",
       "      <td>1</td>\n",
       "    </tr>\n",
       "    <tr>\n",
       "      <th>Denmark</th>\n",
       "      <td>2</td>\n",
       "    </tr>\n",
       "    <tr>\n",
       "      <th>Norway</th>\n",
       "      <td>3</td>\n",
       "    </tr>\n",
       "    <tr>\n",
       "      <th>Iceland</th>\n",
       "      <td>4</td>\n",
       "    </tr>\n",
       "    <tr>\n",
       "      <th>Netherlands</th>\n",
       "      <td>5</td>\n",
       "    </tr>\n",
       "  </tbody>\n",
       "</table>\n",
       "</div>"
      ],
      "text/plain": [
       "                   Overall rank\n",
       "Country or region              \n",
       "Finland                       1\n",
       "Denmark                       2\n",
       "Norway                        3\n",
       "Iceland                       4\n",
       "Netherlands                   5"
      ]
     },
     "execution_count": 13,
     "metadata": {},
     "output_type": "execute_result"
    }
   ],
   "source": [
    "h_data.iloc[0:5,0:1]"
   ]
  },
  {
   "cell_type": "code",
   "execution_count": 14,
   "metadata": {},
   "outputs": [
    {
     "data": {
      "text/plain": [
       "1.34"
      ]
     },
     "execution_count": 14,
     "metadata": {},
     "output_type": "execute_result"
    }
   ],
   "source": [
    "h_data=pd.read_csv(r'C:\\Users\\JOY STARK\\Desktop\\Datasets\\world-happiness\\2019.csv')\n",
    "ser=h_data['GDP per capita']\n",
    "ser[0]"
   ]
  },
  {
   "cell_type": "code",
   "execution_count": 15,
   "metadata": {},
   "outputs": [
    {
     "data": {
      "text/plain": [
       "1.6840000000000002"
      ]
     },
     "execution_count": 15,
     "metadata": {},
     "output_type": "execute_result"
    }
   ],
   "source": [
    "ser.max()"
   ]
  },
  {
   "cell_type": "code",
   "execution_count": 16,
   "metadata": {},
   "outputs": [
    {
     "data": {
      "text/plain": [
       "array([1.34 , 1.383, 1.488, 1.38 , 1.396, 1.452, 1.387, 1.303, 1.365,\n",
       "       1.376, 1.372, 1.034, 1.276, 1.609, 1.333, 1.499, 1.373, 1.356,\n",
       "       1.433, 1.269, 1.503, 1.3  , 1.07 , 1.324, 1.368, 1.159, 0.8  ,\n",
       "       1.403, 1.684, 1.286, 1.149, 1.004, 1.124, 1.572, 0.794, 1.294,\n",
       "       1.362, 1.246, 1.231, 1.206, 0.745, 1.238, 0.985, 1.258, 0.694,\n",
       "       0.882, 1.092, 1.162, 1.263, 0.912, 1.5  , 1.05 , 1.187, 1.301,\n",
       "       1.237, 0.831, 1.12 , 1.327, 0.642, 1.173, 0.776, 1.201, 0.855,\n",
       "       0.96 , 1.221, 0.677, 1.183, 0.807, 0.685, 1.044, 1.051, 0.493,\n",
       "       1.155, 1.438, 1.015, 0.945, 1.067, 1.181, 0.948, 0.983, 0.696,\n",
       "       0.551, 1.052, 1.002, 0.801, 1.043, 0.987, 0.931, 1.029, 0.741,\n",
       "       0.813, 0.549, 0.611, 0.569, 0.446, 0.837, 0.393, 0.673, 1.057,\n",
       "       0.764, 0.947, 0.574, 0.657, 0.45 , 0.   , 0.879, 0.138, 0.331,\n",
       "       0.85 , 1.1  , 0.38 , 0.886, 0.308, 0.512, 0.57 , 0.204, 0.921,\n",
       "       0.562, 0.094, 0.385, 0.268, 0.949, 0.71 , 0.35 , 0.82 , 0.336,\n",
       "       0.811, 0.332, 0.913, 0.578, 0.275, 0.755, 0.073, 0.274, 0.489,\n",
       "       0.046, 0.366, 0.323, 1.041, 0.619, 0.191, 0.287, 0.359, 0.476,\n",
       "       0.026, 0.306])"
      ]
     },
     "execution_count": 16,
     "metadata": {},
     "output_type": "execute_result"
    }
   ],
   "source": [
    "ser.unique()"
   ]
  },
  {
   "cell_type": "code",
   "execution_count": 17,
   "metadata": {},
   "outputs": [
    {
     "ename": "SyntaxError",
     "evalue": "invalid syntax (<ipython-input-17-0b9a69d58a09>, line 1)",
     "output_type": "error",
     "traceback": [
      "\u001b[1;36m  File \u001b[1;32m\"<ipython-input-17-0b9a69d58a09>\"\u001b[1;36m, line \u001b[1;32m1\u001b[0m\n\u001b[1;33m    ser.nunique((dropna=False))\u001b[0m\n\u001b[1;37m                       ^\u001b[0m\n\u001b[1;31mSyntaxError\u001b[0m\u001b[1;31m:\u001b[0m invalid syntax\n"
     ]
    }
   ],
   "source": [
    "ser.nunique((dropna=False))\n"
   ]
  },
  {
   "cell_type": "code",
   "execution_count": null,
   "metadata": {},
   "outputs": [],
   "source": [
    "import pandas as pd\n",
    "anime=['Dragon Ball Z','Inazuma 11','Babelade','Digimon','Tom and Jerry','Justice League','Pokemon','Ninja Haturi','Perman','Spongebob']\n",
    "genre=['cartoon','cartoon','cartoon','cartoon','cartoon','cartoon','cartoon','cartoon','cartoon','cartoon']\n",
    "anime_series=pd.Series(anime,name='anime genre')\n",
    "anime_series.size\n"
   ]
  },
  {
   "cell_type": "code",
   "execution_count": null,
   "metadata": {},
   "outputs": [],
   "source": [
    "genre=['cartoon','cartoon','cartoon','cartoon','cartoon','cartoon','cartoon','cartoon','cartoon','cartoon']\n",
    "anime=['Dragon Ball Z','Inazuma 11','Babelade','Digimon','Tom and Jerry','Justice League','Pokemon','Ninja Haturi','Perman','Spongebob']\n",
    "anime_genre=pd.Series(genre,name='animation genre',index=anime)\n",
    "anime_genre\n"
   ]
  },
  {
   "cell_type": "code",
   "execution_count": null,
   "metadata": {},
   "outputs": [],
   "source": [
    "h_data=pd.read_csv('C:\\\\Users\\\\JOY STARK\\\\Desktop\\\\Datasets\\\\world-happiness\\\\2019.csv',usecols=['Country or region','GDP per capita'],squeeze=True,index_col='Country or region')\n",
    "h_data.head()"
   ]
  },
  {
   "cell_type": "code",
   "execution_count": null,
   "metadata": {},
   "outputs": [],
   "source": [
    "h_data\n"
   ]
  },
  {
   "cell_type": "code",
   "execution_count": null,
   "metadata": {},
   "outputs": [],
   "source": [
    "h_data['Country or region'][h_data['GDP per capita']<1]"
   ]
  },
  {
   "cell_type": "code",
   "execution_count": null,
   "metadata": {},
   "outputs": [],
   "source": [
    "import pandas as pd\n",
    "weather={\n",
    "    'Date':['1/1/2017','2/1/2017','3/1/2017','4/1/2017','5/1/2017','6/1/2017','7/1/2017','8/1/2017','9/1/2017','10/1/2017'],\n",
    "    'Event':['Rainy','Sunny','Sunny','Cloudy','Rainy','Cloudy','Sunny','Rainy','Clear','Clear'],\n",
    "    'Temperature':[23,22,25,26,24,23,25,24,25,25],\n",
    "    'Windspeed':[6,5,4,7,7,6,5,4,5,6]\n",
    "}\n",
    "df=pd.DataFrame(weather)\n",
    "df"
   ]
  },
  {
   "cell_type": "code",
   "execution_count": null,
   "metadata": {},
   "outputs": [],
   "source": [
    "df[['Date','Windspeed']][df['Event']=='Rainy']"
   ]
  },
  {
   "cell_type": "code",
   "execution_count": null,
   "metadata": {},
   "outputs": [],
   "source": [
    "df.shape"
   ]
  },
  {
   "cell_type": "code",
   "execution_count": null,
   "metadata": {},
   "outputs": [],
   "source": [
    "df.head(2)"
   ]
  },
  {
   "cell_type": "code",
   "execution_count": null,
   "metadata": {},
   "outputs": [],
   "source": [
    "row,column=df.shape\n",
    "df[df.Temperature==df.Temperature.max()]"
   ]
  },
  {
   "cell_type": "code",
   "execution_count": null,
   "metadata": {},
   "outputs": [],
   "source": [
    "import pandas as pd\n",
    "df['Date']=pd.to_datetime(df.Date)\n",
    "df=df.sort_values(by='Temperature')\n",
    "df_sortedbydate=df.sort_values(by='Date')\n",
    "series=df['Temperature']\n",
    "series=series.sort_values()\n",
    "df.set_index('Event')\n",
    "df"
   ]
  },
  {
   "cell_type": "code",
   "execution_count": null,
   "metadata": {},
   "outputs": [],
   "source": [
    "df['Event'].size-df['Event'].nunique()"
   ]
  },
  {
   "cell_type": "code",
   "execution_count": null,
   "metadata": {},
   "outputs": [],
   "source": [
    "df.to_csv('')"
   ]
  },
  {
   "cell_type": "code",
   "execution_count": null,
   "metadata": {},
   "outputs": [],
   "source": [
    "df.to_csv(r'C:\\\\Users\\\\JOY STARK\\\\Desktop\\\\Datasets\\\\weather/weathers.csv')"
   ]
  },
  {
   "cell_type": "code",
   "execution_count": null,
   "metadata": {},
   "outputs": [],
   "source": [
    "df.isnull().sum()"
   ]
  },
  {
   "cell_type": "code",
   "execution_count": null,
   "metadata": {},
   "outputs": [],
   "source": [
    "df"
   ]
  },
  {
   "cell_type": "code",
   "execution_count": null,
   "metadata": {},
   "outputs": [],
   "source": [
    "h_data"
   ]
  },
  {
   "cell_type": "code",
   "execution_count": null,
   "metadata": {},
   "outputs": [],
   "source": [
    "import pandas as pd\n",
    "weather={\n",
    "    'Date':['1/1/2017','2/1/2017','3/1/2017','4/1/2017','5/1/2017','6/1/2017','7/1/2017','8/1/2017','9/1/2017','10/1/2017'],\n",
    "    'Event':['Rainy','Sunny','Sunny','Cloudy','Rainy','Cloudy','Sunny','Rainy','Clear','Clear'],\n",
    "    'Temperature':[23,22,25,26,24,23,25,24,25,25],\n",
    "    'Windspeed':[6,5,4,7,7,6,5,4,5,6]\n",
    "}\n",
    "df=pd.DataFrame(weather)\n",
    "df.to_csv(r'C:\\Users\\JOY STARK\\Desktop\\Datasets\\weather\\weathers.csv',index=False)"
   ]
  },
  {
   "cell_type": "code",
   "execution_count": null,
   "metadata": {},
   "outputs": [],
   "source": [
    "kf=pd.read_csv(r'C:\\Users\\JOY STARK\\Desktop\\Datasets\\weather\\weathers.csv',header=1,names=['date','event','temperature','windspeed'],nrows=3,na_values={\n",
    "    'date':['not available','missing','n.a.'],\n",
    "    'event':['nothing','missing',-1],\n",
    "    'temperature':['nothing','n.a.'],\n",
    "    'windspeed':['missing','n.a.']\n",
    "})#(skiprows=1)(header=1)\n",
    "#df=df.sort_values(by=['Date'])\n",
    "kf.to_csv(r'C:\\Users\\JOY STARK\\Desktop\\Datasets\\weather\\weathers.csv',index=False)\n",
    "kf.to_csv(r'C:\\Users\\JOY STARK\\Desktop\\Datasets\\weather\\temperature.csv',index=False,columns=['date','temperature'],header=True)\n",
    "kf=pd.read_csv(r'C:\\Users\\JOY STARK\\Desktop\\Datasets\\weather\\temperature.csv')\n",
    "kf"
   ]
  },
  {
   "cell_type": "code",
   "execution_count": null,
   "metadata": {},
   "outputs": [],
   "source": [
    "m_data.loc[['Avatar','Spectre'],['budget','homepage']]"
   ]
  },
  {
   "cell_type": "code",
   "execution_count": null,
   "metadata": {},
   "outputs": [],
   "source": []
  }
 ],
 "metadata": {
  "kernelspec": {
   "display_name": "Python 3",
   "language": "python",
   "name": "python3"
  },
  "language_info": {
   "codemirror_mode": {
    "name": "ipython",
    "version": 3
   },
   "file_extension": ".py",
   "mimetype": "text/x-python",
   "name": "python",
   "nbconvert_exporter": "python",
   "pygments_lexer": "ipython3",
   "version": "3.7.3"
  }
 },
 "nbformat": 4,
 "nbformat_minor": 2
}
