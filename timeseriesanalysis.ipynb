{
 "cells": [
  {
   "cell_type": "code",
   "execution_count": 1,
   "metadata": {},
   "outputs": [
    {
     "data": {
      "text/html": [
       "<div>\n",
       "<style scoped>\n",
       "    .dataframe tbody tr th:only-of-type {\n",
       "        vertical-align: middle;\n",
       "    }\n",
       "\n",
       "    .dataframe tbody tr th {\n",
       "        vertical-align: top;\n",
       "    }\n",
       "\n",
       "    .dataframe thead th {\n",
       "        text-align: right;\n",
       "    }\n",
       "</style>\n",
       "<table border=\"1\" class=\"dataframe\">\n",
       "  <thead>\n",
       "    <tr style=\"text-align: right;\">\n",
       "      <th></th>\n",
       "      <th>Open</th>\n",
       "      <th>High</th>\n",
       "      <th>Low</th>\n",
       "      <th>Close</th>\n",
       "      <th>Adj Close</th>\n",
       "      <th>Volume</th>\n",
       "    </tr>\n",
       "    <tr>\n",
       "      <th>Date</th>\n",
       "      <th></th>\n",
       "      <th></th>\n",
       "      <th></th>\n",
       "      <th></th>\n",
       "      <th></th>\n",
       "      <th></th>\n",
       "    </tr>\n",
       "  </thead>\n",
       "  <tbody>\n",
       "    <tr>\n",
       "      <th>2019-01-28</th>\n",
       "      <td>155.789993</td>\n",
       "      <td>156.330002</td>\n",
       "      <td>153.660004</td>\n",
       "      <td>156.300003</td>\n",
       "      <td>153.986359</td>\n",
       "      <td>26192100</td>\n",
       "    </tr>\n",
       "    <tr>\n",
       "      <th>2019-01-29</th>\n",
       "      <td>156.250000</td>\n",
       "      <td>158.130005</td>\n",
       "      <td>154.110001</td>\n",
       "      <td>154.679993</td>\n",
       "      <td>152.390320</td>\n",
       "      <td>41587200</td>\n",
       "    </tr>\n",
       "    <tr>\n",
       "      <th>2019-01-30</th>\n",
       "      <td>163.250000</td>\n",
       "      <td>166.149994</td>\n",
       "      <td>160.229996</td>\n",
       "      <td>165.250000</td>\n",
       "      <td>162.803864</td>\n",
       "      <td>61109800</td>\n",
       "    </tr>\n",
       "    <tr>\n",
       "      <th>2019-01-31</th>\n",
       "      <td>166.110001</td>\n",
       "      <td>169.000000</td>\n",
       "      <td>164.559998</td>\n",
       "      <td>166.440002</td>\n",
       "      <td>163.976242</td>\n",
       "      <td>40739600</td>\n",
       "    </tr>\n",
       "    <tr>\n",
       "      <th>2019-02-01</th>\n",
       "      <td>166.960007</td>\n",
       "      <td>168.979996</td>\n",
       "      <td>165.929993</td>\n",
       "      <td>166.520004</td>\n",
       "      <td>164.055069</td>\n",
       "      <td>32668100</td>\n",
       "    </tr>\n",
       "  </tbody>\n",
       "</table>\n",
       "</div>"
      ],
      "text/plain": [
       "                  Open        High         Low       Close   Adj Close  \\\n",
       "Date                                                                     \n",
       "2019-01-28  155.789993  156.330002  153.660004  156.300003  153.986359   \n",
       "2019-01-29  156.250000  158.130005  154.110001  154.679993  152.390320   \n",
       "2019-01-30  163.250000  166.149994  160.229996  165.250000  162.803864   \n",
       "2019-01-31  166.110001  169.000000  164.559998  166.440002  163.976242   \n",
       "2019-02-01  166.960007  168.979996  165.929993  166.520004  164.055069   \n",
       "\n",
       "              Volume  \n",
       "Date                  \n",
       "2019-01-28  26192100  \n",
       "2019-01-29  41587200  \n",
       "2019-01-30  61109800  \n",
       "2019-01-31  40739600  \n",
       "2019-02-01  32668100  "
      ]
     },
     "execution_count": 1,
     "metadata": {},
     "output_type": "execute_result"
    }
   ],
   "source": [
    "import pandas as pd\n",
    "import numpy as np\n",
    "data=pd.read_csv(r'C:\\Users\\JOY STARK\\Desktop\\Datasets\\apple historical data\\AAPL.csv',parse_dates=['Date'])\n",
    "#data.Date=pd.to_datetime(data.Date)\n",
    "#data=data.sort_values(by='Date')\n",
    "data.set_index('Date',inplace=True)\n",
    "data.head()\n"
   ]
  },
  {
   "cell_type": "code",
   "execution_count": 2,
   "metadata": {},
   "outputs": [
    {
     "data": {
      "text/html": [
       "<div>\n",
       "<style scoped>\n",
       "    .dataframe tbody tr th:only-of-type {\n",
       "        vertical-align: middle;\n",
       "    }\n",
       "\n",
       "    .dataframe tbody tr th {\n",
       "        vertical-align: top;\n",
       "    }\n",
       "\n",
       "    .dataframe thead th {\n",
       "        text-align: right;\n",
       "    }\n",
       "</style>\n",
       "<table border=\"1\" class=\"dataframe\">\n",
       "  <thead>\n",
       "    <tr style=\"text-align: right;\">\n",
       "      <th></th>\n",
       "      <th>Open</th>\n",
       "      <th>High</th>\n",
       "      <th>Low</th>\n",
       "      <th>Close</th>\n",
       "      <th>Adj Close</th>\n",
       "      <th>Volume</th>\n",
       "    </tr>\n",
       "    <tr>\n",
       "      <th>Date</th>\n",
       "      <th></th>\n",
       "      <th></th>\n",
       "      <th></th>\n",
       "      <th></th>\n",
       "      <th></th>\n",
       "      <th></th>\n",
       "    </tr>\n",
       "  </thead>\n",
       "  <tbody>\n",
       "    <tr>\n",
       "      <th>2019-01-28</th>\n",
       "      <td>155.789993</td>\n",
       "      <td>156.330002</td>\n",
       "      <td>153.660004</td>\n",
       "      <td>156.300003</td>\n",
       "      <td>153.986359</td>\n",
       "      <td>26192100</td>\n",
       "    </tr>\n",
       "    <tr>\n",
       "      <th>2019-01-29</th>\n",
       "      <td>156.250000</td>\n",
       "      <td>158.130005</td>\n",
       "      <td>154.110001</td>\n",
       "      <td>154.679993</td>\n",
       "      <td>152.390320</td>\n",
       "      <td>41587200</td>\n",
       "    </tr>\n",
       "    <tr>\n",
       "      <th>2019-01-30</th>\n",
       "      <td>163.250000</td>\n",
       "      <td>166.149994</td>\n",
       "      <td>160.229996</td>\n",
       "      <td>165.250000</td>\n",
       "      <td>162.803864</td>\n",
       "      <td>61109800</td>\n",
       "    </tr>\n",
       "    <tr>\n",
       "      <th>2019-01-31</th>\n",
       "      <td>166.110001</td>\n",
       "      <td>169.000000</td>\n",
       "      <td>164.559998</td>\n",
       "      <td>166.440002</td>\n",
       "      <td>163.976242</td>\n",
       "      <td>40739600</td>\n",
       "    </tr>\n",
       "  </tbody>\n",
       "</table>\n",
       "</div>"
      ],
      "text/plain": [
       "                  Open        High         Low       Close   Adj Close  \\\n",
       "Date                                                                     \n",
       "2019-01-28  155.789993  156.330002  153.660004  156.300003  153.986359   \n",
       "2019-01-29  156.250000  158.130005  154.110001  154.679993  152.390320   \n",
       "2019-01-30  163.250000  166.149994  160.229996  165.250000  162.803864   \n",
       "2019-01-31  166.110001  169.000000  164.559998  166.440002  163.976242   \n",
       "\n",
       "              Volume  \n",
       "Date                  \n",
       "2019-01-28  26192100  \n",
       "2019-01-29  41587200  \n",
       "2019-01-30  61109800  \n",
       "2019-01-31  40739600  "
      ]
     },
     "execution_count": 2,
     "metadata": {},
     "output_type": "execute_result"
    }
   ],
   "source": [
    "data['2019-01'] #we can get data of a single month\n",
    "#data['2019-01'].Close.mean() #average stock prices in January"
   ]
  },
  {
   "cell_type": "code",
   "execution_count": 3,
   "metadata": {},
   "outputs": [
    {
     "data": {
      "text/plain": [
       "<matplotlib.axes._subplots.AxesSubplot at 0x155470da630>"
      ]
     },
     "execution_count": 3,
     "metadata": {},
     "output_type": "execute_result"
    },
    {
     "data": {
      "image/png": "[encoded data removed]",
      "text/plain": [
       "<Figure size 432x288 with 1 Axes>"
      ]
     },
     "metadata": {
      "needs_background": "light"
     },
     "output_type": "display_data"
    }
   ],
   "source": [
    "data.loc['2019-01-01':'2019-01-31'] #finding data in a range\n",
    "ser=data.Close.resample('M').sum() #sum of the Closing price on the basis of months\n",
    "%matplotlib inline\n",
    "ser.plot(kind=\"bar\") #kind=\"bar\""
   ]
  },
  {
   "cell_type": "code",
   "execution_count": 4,
   "metadata": {},
   "outputs": [
    {
     "data": {
      "text/plain": [
       "<matplotlib.axes._subplots.AxesSubplot at 0x1554741c898>"
      ]
     },
     "execution_count": 4,
     "metadata": {},
     "output_type": "execute_result"
    },
    {
     "data": {
      "image/png": "[encoded data removed]",
      "text/plain": [
       "<Figure size 432x288 with 1 Axes>"
      ]
     },
     "metadata": {
      "needs_background": "light"
     },
     "output_type": "display_data"
    }
   ],
   "source": [
    "data[['Close','Adj Close']].plot()"
   ]
  },
  {
   "cell_type": "code",
   "execution_count": 5,
   "metadata": {},
   "outputs": [
    {
     "data": {
      "text/plain": [
       "2019-01-01    5\n",
       "2019-01-02    8\n",
       "2019-01-03    7\n",
       "2019-01-04    2\n",
       "2019-01-07    8\n",
       "2019-01-08    4\n",
       "2019-01-09    3\n",
       "2019-01-10    8\n",
       "2019-01-11    6\n",
       "2019-01-14    8\n",
       "2019-01-15    9\n",
       "2019-01-16    9\n",
       "2019-01-17    8\n",
       "2019-01-18    7\n",
       "2019-01-21    5\n",
       "2019-01-22    8\n",
       "2019-01-23    2\n",
       "2019-01-24    9\n",
       "2019-01-25    9\n",
       "2019-01-28    2\n",
       "2019-01-29    5\n",
       "2019-01-30    4\n",
       "2019-01-31    6\n",
       "2019-02-01    1\n",
       "2019-02-04    2\n",
       "2019-02-05    7\n",
       "2019-02-06    4\n",
       "2019-02-07    3\n",
       "2019-02-08    5\n",
       "2019-02-11    4\n",
       "             ..\n",
       "2019-02-28    3\n",
       "2019-03-01    6\n",
       "2019-03-04    7\n",
       "2019-03-05    6\n",
       "2019-03-06    4\n",
       "2019-03-07    3\n",
       "2019-03-08    5\n",
       "2019-03-11    5\n",
       "2019-03-12    3\n",
       "2019-03-13    2\n",
       "2019-03-14    3\n",
       "2019-03-15    3\n",
       "2019-03-18    1\n",
       "2019-03-19    5\n",
       "2019-03-20    3\n",
       "2019-03-21    1\n",
       "2019-03-22    3\n",
       "2019-03-25    7\n",
       "2019-03-26    2\n",
       "2019-03-27    6\n",
       "2019-03-28    5\n",
       "2019-03-29    9\n",
       "2019-04-01    1\n",
       "2019-04-02    1\n",
       "2019-04-03    7\n",
       "2019-04-04    7\n",
       "2019-04-05    7\n",
       "2019-04-08    8\n",
       "2019-04-09    8\n",
       "2019-04-10    5\n",
       "Freq: B, Length: 72, dtype: int32"
      ]
     },
     "execution_count": 5,
     "metadata": {},
     "output_type": "execute_result"
    },
    {
     "data": {
      "image/png": "[encoded data removed]",
      "text/plain": [
       "<Figure size 432x288 with 1 Axes>"
      ]
     },
     "metadata": {
      "needs_background": "light"
     },
     "output_type": "display_data"
    }
   ],
   "source": [
    "data2=pd.read_csv(r'C:\\Users\\JOY STARK\\Desktop\\Datasets\\apple historical data\\AAPL.csv',parse_dates=['Date'])\n",
    "data2.set_index('Date',inplace=True)\n",
    "data2=data2['2019-07-01':'2019-07-31']\n",
    "data2.to_csv(r'C:\\Users\\JOY STARK\\Desktop\\Datasets\\apple historical data\\AAPL2.csv',index=False)\n",
    "data3=pd.read_csv(r'C:\\Users\\JOY STARK\\Desktop\\Datasets\\apple historical data\\AAPL2.csv')\n",
    "data3.head()\n",
    "rng=pd.date_range(start='2019-01-01',end='2019-01-05',freq='B')\n",
    "#idx=pd.DatetimeIndex(rng)\n",
    "data3.reindex(rng)\n",
    "data3.Close.plot()\n",
    "data.asfreq('D',method='pad')['2019-02'] #shows daily datas where missing datas are filled with the method='pad'\n",
    "rng2=pd.date_range(start='2019-01-01',periods=72,freq='B')\n",
    "pd.Series(np.random.randint(1,10,len(rng2)),index=rng2)"
   ]
  },
  {
   "cell_type": "code",
   "execution_count": 6,
   "metadata": {},
   "outputs": [
    {
     "data": {
      "text/plain": [
       "2020-03-01 00:00:00+06:00   -0.481827\n",
       "2020-03-02 00:00:00+06:00    0.234187\n",
       "2020-03-03 00:00:00+06:00    0.036185\n",
       "2020-03-04 00:00:00+06:00    1.640596\n",
       "2020-03-05 00:00:00+06:00   -1.435431\n",
       "2020-03-08 00:00:00+06:00    1.012328\n",
       "2020-03-09 00:00:00+06:00    0.785752\n",
       "2020-03-10 00:00:00+06:00   -1.105978\n",
       "2020-03-11 00:00:00+06:00   -0.056138\n",
       "2020-03-12 00:00:00+06:00   -0.392252\n",
       "2020-03-15 00:00:00+06:00   -0.359303\n",
       "2020-03-16 00:00:00+06:00    1.495531\n",
       "2020-03-17 00:00:00+06:00    0.276680\n",
       "2020-03-19 00:00:00+06:00   -0.100608\n",
       "2020-03-22 00:00:00+06:00    1.127347\n",
       "2020-03-23 00:00:00+06:00   -1.495989\n",
       "2020-03-24 00:00:00+06:00   -0.708434\n",
       "2020-03-25 00:00:00+06:00    0.668708\n",
       "2020-03-26 00:00:00+06:00    1.394935\n",
       "2020-03-29 00:00:00+06:00   -1.133995\n",
       "2020-03-30 00:00:00+06:00    1.281296\n",
       "2020-03-31 00:00:00+06:00   -0.457321\n",
       "Freq: C, dtype: float64"
      ]
     },
     "execution_count": 6,
     "metadata": {},
     "output_type": "execute_result"
    }
   ],
   "source": [
    "from pandas.tseries.holiday import USFederalHolidayCalendar\n",
    "from pandas.tseries.offsets import CustomBusinessDay\n",
    "from pandas.tseries.holiday import AbstractHolidayCalendar,nearest_workday,Holiday\n",
    "usb=CustomBusinessDay(calendar=USFederalHolidayCalendar())\n",
    "usb \n",
    "rng=pd.date_range(start='2019-07-01',end='2019-07-31',freq=usb)\n",
    "rng\n",
    "class MyOwnCalendar(AbstractHolidayCalendar):\n",
    "    rules = [\n",
    "        Holiday(\"Joy's Birthday\", month=3, day=18, observance=nearest_workday)# observance=nearest_workday\n",
    "    ]\n",
    "bd=CustomBusinessDay(calendar=MyOwnCalendar(),weekmask='Sun Mon Tue Wed Thu',holidays=['2019-03-17'])\n",
    "rng=pd.date_range(start='2020-03-01',end='2020-03-31',freq=bd)\n",
    "rng\n",
    "import numpy as np\n",
    "series=pd.Series(np.random.randn(len(rng)),rng)\n",
    "series.tz_localize(tz='Asia/Dhaka')"
   ]
  },
  {
   "cell_type": "code",
   "execution_count": 7,
   "metadata": {},
   "outputs": [
    {
     "data": {
      "text/plain": [
       "<matplotlib.axes._subplots.AxesSubplot at 0x1554753f5c0>"
      ]
     },
     "execution_count": 7,
     "metadata": {},
     "output_type": "execute_result"
    },
    {
     "data": {
      "image/png": "[encoded data removed]",
      "text/plain": [
       "<Figure size 432x288 with 1 Axes>"
      ]
     },
     "metadata": {
      "needs_background": "light"
     },
     "output_type": "display_data"
    }
   ],
   "source": [
    "series.plot(kind='bar')"
   ]
  },
  {
   "cell_type": "code",
   "execution_count": 8,
   "metadata": {},
   "outputs": [
    {
     "data": {
      "text/plain": [
       "Date\n",
       "2019-03-31    AxesSubplot(0.125,0.2;0.775x0.68)\n",
       "2019-06-30    AxesSubplot(0.125,0.2;0.775x0.68)\n",
       "2019-09-30    AxesSubplot(0.125,0.2;0.775x0.68)\n",
       "2019-12-31    AxesSubplot(0.125,0.2;0.775x0.68)\n",
       "2020-03-31    AxesSubplot(0.125,0.2;0.775x0.68)\n",
       "Freq: Q-DEC, Name: Close, dtype: object"
      ]
     },
     "execution_count": 8,
     "metadata": {},
     "output_type": "execute_result"
    },
    {
     "data": {
      "image/png": "[encoded data removed]",
      "text/plain": [
       "<Figure size 432x288 with 1 Axes>"
      ]
     },
     "metadata": {
      "needs_background": "light"
     },
     "output_type": "display_data"
    }
   ],
   "source": [
    "data.Close.resample('Q').plot()"
   ]
  },
  {
   "cell_type": "code",
   "execution_count": 9,
   "metadata": {},
   "outputs": [],
   "source": [
    "y=pd.Period('2016')\n",
    "y.week\n",
    "m=pd.Period('2020-03',freq='M')\n",
    "m.week\n",
    "d=pd.Period('2020-03-01',freq='D')\n",
    "d.week\n",
    "h=pd.Period('2020-03-01 00:00',freq='H')\n",
    "h+pd.offsets.Hour(5) # h+5 works\n",
    "q=pd.Period('2019Q1') #Fiscal year ending in December\n",
    "q+1\n",
    "q=pd.Period('2019Q1',freq='Q-JAN')\n",
    "q.start_time\n",
    "q.end_time\n",
    "mn=q.asfreq('M',how='end') #Converting one frequency to another frequency\n",
    "q2=pd.Period('2019Q2',freq='Q-JAN')\n",
    "q2-q\n",
    "idx=pd.period_range('2017','2019',freq='Q-JAN')\n",
    "idx\n",
    "import numpy as np\n",
    "ps=pd.Series(np.random.randn(len(idx)),idx)\n",
    "ps=ps.to_timestamp()"
   ]
  },
  {
   "cell_type": "code",
   "execution_count": 11,
   "metadata": {},
   "outputs": [
    {
     "data": {
      "text/plain": [
       "2016-11-01 00:00:00+06:00   -0.423271\n",
       "2017-02-01 00:00:00+06:00   -1.368480\n",
       "2017-05-01 00:00:00+06:00    0.416331\n",
       "2017-08-01 00:00:00+06:00    0.574404\n",
       "2017-11-01 00:00:00+06:00    1.218712\n",
       "2018-02-01 00:00:00+06:00    0.811455\n",
       "2018-05-01 00:00:00+06:00   -0.115427\n",
       "2018-08-01 00:00:00+06:00   -0.528597\n",
       "2018-11-01 00:00:00+06:00    1.846570\n",
       "Freq: QS-NOV, dtype: float64"
      ]
     },
     "execution_count": 11,
     "metadata": {},
     "output_type": "execute_result"
    }
   ],
   "source": [
    "ps=ps.tz_localize(tz='Asia/Dhaka') #to make it time awared\n",
    "ps"
   ]
  },
  {
   "cell_type": "code",
   "execution_count": null,
   "metadata": {},
   "outputs": [],
   "source": [
    "from pytz import all_timezones\n",
    "all_timezones\n",
    "daterangefunctionwithtimezone=pd.date_range(start='2019-01-01',periods=72,freq='B',tz='Asia/Dhaka')\n",
    "daterangefunctionwithtimezone\n",
    "daterangefunctionwithtimezoneusingdateutil=pd.date_range(start='2019-01-01',periods=72,freq='B',tz='dateutil/Asia/Dhaka')\n",
    "daterangefunctionwithtimezoneusingdateutil\n",
    "#Difference between pytz and dateutil is: dateutil uses timezones from the operating system while pytz uses timezones which are predefined\n"
   ]
  },
  {
   "cell_type": "code",
   "execution_count": 97,
   "metadata": {},
   "outputs": [
    {
     "data": {
      "text/html": [
       "<div>\n",
       "<style scoped>\n",
       "    .dataframe tbody tr th:only-of-type {\n",
       "        vertical-align: middle;\n",
       "    }\n",
       "\n",
       "    .dataframe tbody tr th {\n",
       "        vertical-align: top;\n",
       "    }\n",
       "\n",
       "    .dataframe thead th {\n",
       "        text-align: right;\n",
       "    }\n",
       "</style>\n",
       "<table border=\"1\" class=\"dataframe\">\n",
       "  <thead>\n",
       "    <tr style=\"text-align: right;\">\n",
       "      <th></th>\n",
       "      <th>name</th>\n",
       "      <th>stock_pt</th>\n",
       "      <th>prevstock_pt</th>\n",
       "      <th>change in price</th>\n",
       "    </tr>\n",
       "    <tr>\n",
       "      <th>date</th>\n",
       "      <th></th>\n",
       "      <th></th>\n",
       "      <th></th>\n",
       "      <th></th>\n",
       "    </tr>\n",
       "  </thead>\n",
       "  <tbody>\n",
       "    <tr>\n",
       "      <th>2020-01-01 00:00:00+01:00</th>\n",
       "      <td>John</td>\n",
       "      <td>25</td>\n",
       "      <td>NaN</td>\n",
       "      <td>NaN</td>\n",
       "    </tr>\n",
       "    <tr>\n",
       "      <th>2020-01-02 00:00:00+01:00</th>\n",
       "      <td>Joy</td>\n",
       "      <td>23</td>\n",
       "      <td>25.0</td>\n",
       "      <td>-2.0</td>\n",
       "    </tr>\n",
       "    <tr>\n",
       "      <th>2020-01-03 00:00:00+01:00</th>\n",
       "      <td>Samin</td>\n",
       "      <td>23</td>\n",
       "      <td>23.0</td>\n",
       "      <td>0.0</td>\n",
       "    </tr>\n",
       "    <tr>\n",
       "      <th>2020-01-06 00:00:00+01:00</th>\n",
       "      <td>Kashpiya</td>\n",
       "      <td>22</td>\n",
       "      <td>23.0</td>\n",
       "      <td>-1.0</td>\n",
       "    </tr>\n",
       "    <tr>\n",
       "      <th>2020-01-07 00:00:00+01:00</th>\n",
       "      <td>Volgertz</td>\n",
       "      <td>24</td>\n",
       "      <td>22.0</td>\n",
       "      <td>2.0</td>\n",
       "    </tr>\n",
       "  </tbody>\n",
       "</table>\n",
       "</div>"
      ],
      "text/plain": [
       "                               name  stock_pt  prevstock_pt  change in price\n",
       "date                                                                        \n",
       "2020-01-01 00:00:00+01:00      John        25           NaN              NaN\n",
       "2020-01-02 00:00:00+01:00       Joy        23          25.0             -2.0\n",
       "2020-01-03 00:00:00+01:00     Samin        23          23.0              0.0\n",
       "2020-01-06 00:00:00+01:00  Kashpiya        22          23.0             -1.0\n",
       "2020-01-07 00:00:00+01:00  Volgertz        24          22.0              2.0"
      ]
     },
     "execution_count": 97,
     "metadata": {},
     "output_type": "execute_result"
    }
   ],
   "source": [
    "#shifting\n",
    "import numpy as np\n",
    "data=pd.DataFrame({\n",
    "    'name':['John','Joy','Samin','Kashpiya','Volgertz'],\n",
    "    'stock_pt':[25,23,23,22,24]\n",
    "})\n",
    "data=data.set_index('name')\n",
    "#data.shift(1) #shifts the graph by 1 unit right\n",
    "#data.shift(-1) #shifts the graph by 1 unit left\n",
    "data['prevstock_pt']=data.shift(1)\n",
    "r,c=data.shape\n",
    "rng=pd.date_range(start='2020-01-01',periods=r,freq='B',tz='Europe/Berlin')\n",
    "data.reset_index()\n",
    "data['date']=rng\n",
    "data=data.reset_index()\n",
    "data=data.set_index('date')\n",
    "data['change in price']=data['stock_pt']-data['prevstock_pt']\n",
    "data"
   ]
  },
  {
   "cell_type": "code",
   "execution_count": null,
   "metadata": {},
   "outputs": [],
   "source": [
    "data.tshift(1) #shifting the datetimes by 1\n",
    "data.tshift(-1) #shifting the datetimes by -1"
   ]
  },
  {
   "cell_type": "code",
   "execution_count": 107,
   "metadata": {},
   "outputs": [
    {
     "data": {
      "text/html": [
       "<div>\n",
       "<style scoped>\n",
       "    .dataframe tbody tr th:only-of-type {\n",
       "        vertical-align: middle;\n",
       "    }\n",
       "\n",
       "    .dataframe tbody tr th {\n",
       "        vertical-align: top;\n",
       "    }\n",
       "\n",
       "    .dataframe thead th {\n",
       "        text-align: right;\n",
       "    }\n",
       "</style>\n",
       "<table border=\"1\" class=\"dataframe\">\n",
       "  <thead>\n",
       "    <tr style=\"text-align: right;\">\n",
       "      <th></th>\n",
       "      <th>Revenue</th>\n",
       "      <th>Expenses</th>\n",
       "      <th>Profit</th>\n",
       "      <th>start time</th>\n",
       "      <th>end time</th>\n",
       "    </tr>\n",
       "    <tr>\n",
       "      <th>Line Item</th>\n",
       "      <th></th>\n",
       "      <th></th>\n",
       "      <th></th>\n",
       "      <th></th>\n",
       "      <th></th>\n",
       "    </tr>\n",
       "  </thead>\n",
       "  <tbody>\n",
       "    <tr>\n",
       "      <th>2017-01-01 00:00:00-05:00</th>\n",
       "      <td>115960</td>\n",
       "      <td>11233</td>\n",
       "      <td>60</td>\n",
       "      <td>2017-01-01</td>\n",
       "      <td>2017-03-31 23:59:59.999999999</td>\n",
       "    </tr>\n",
       "    <tr>\n",
       "      <th>2017-04-01 00:00:00-04:00</th>\n",
       "      <td>126567</td>\n",
       "      <td>11234</td>\n",
       "      <td>70</td>\n",
       "      <td>2017-04-01</td>\n",
       "      <td>2017-06-30 23:59:59.999999999</td>\n",
       "    </tr>\n",
       "    <tr>\n",
       "      <th>2017-07-01 00:00:00-04:00</th>\n",
       "      <td>123455</td>\n",
       "      <td>11234</td>\n",
       "      <td>100</td>\n",
       "      <td>2017-07-01</td>\n",
       "      <td>2017-09-30 23:59:59.999999999</td>\n",
       "    </tr>\n",
       "    <tr>\n",
       "      <th>2017-10-01 00:00:00-04:00</th>\n",
       "      <td>12456</td>\n",
       "      <td>10102</td>\n",
       "      <td>110</td>\n",
       "      <td>2017-10-01</td>\n",
       "      <td>2017-12-31 23:59:59.999999999</td>\n",
       "    </tr>\n",
       "  </tbody>\n",
       "</table>\n",
       "</div>"
      ],
      "text/plain": [
       "                           Revenue  Expenses  Profit start time  \\\n",
       "Line Item                                                         \n",
       "2017-01-01 00:00:00-05:00   115960     11233      60 2017-01-01   \n",
       "2017-04-01 00:00:00-04:00   126567     11234      70 2017-04-01   \n",
       "2017-07-01 00:00:00-04:00   123455     11234     100 2017-07-01   \n",
       "2017-10-01 00:00:00-04:00    12456     10102     110 2017-10-01   \n",
       "\n",
       "                                               end time  \n",
       "Line Item                                                \n",
       "2017-01-01 00:00:00-05:00 2017-03-31 23:59:59.999999999  \n",
       "2017-04-01 00:00:00-04:00 2017-06-30 23:59:59.999999999  \n",
       "2017-07-01 00:00:00-04:00 2017-09-30 23:59:59.999999999  \n",
       "2017-10-01 00:00:00-04:00 2017-12-31 23:59:59.999999999  "
      ]
     },
     "execution_count": 107,
     "metadata": {},
     "output_type": "execute_result"
    }
   ],
   "source": [
    "import numpy as np\n",
    "ranges=pd.period_range('2011','2017',freq='Q')\n",
    "DataSeries=pd.Series(np.random.randn(len(ranges)),ranges)\n",
    "DataSeries=DataSeries.to_timestamp() #converting to timestamp\n",
    "DataSeries.to_period() #converting to period\n",
    "Dataframe=pd.DataFrame({\n",
    "    'Revenue':[115960,126567,123455,12456],\n",
    "    'Expenses':[11233,11234,11234,10102],\n",
    "    'Profit':[60,70,100,110]\n",
    "})\n",
    "Dataframe['Line Item']=pd.period_range('2017',periods=4,freq='Q')\n",
    "Dataframe=Dataframe.set_index('Line Item')\n",
    "Dataframe.index=Dataframe.index.to_timestamp()\n",
    "Dataframe\n",
    "#Dataframe.index=pd.PeriodIndex(Dataframe.index,freq='Q-JAN')\n",
    "Dataframe.index=Dataframe.index.to_period()\n",
    "Dataframe['start time']=list(map(lambda x:x.start_time,Dataframe.index))\n",
    "Dataframe['end time']=list(map(lambda x: x.end_time,Dataframe.index))\n",
    "Dataframe.index=Dataframe.index.to_timestamp()\n",
    "Dataframe=Dataframe.tz_localize('US/Eastern')\n",
    "from pytz import all_timezones\n",
    "all_timezones\n",
    "Dataframe.tz_convert('Asia/Dhaka')\n",
    "%matplotlib inline"
   ]
  },
  {
   "cell_type": "code",
   "execution_count": null,
   "metadata": {},
   "outputs": [],
   "source": []
  },
  {
   "cell_type": "code",
   "execution_count": null,
   "metadata": {},
   "outputs": [],
   "source": []
  }
 ],
 "metadata": {
  "kernelspec": {
   "display_name": "Python 3",
   "language": "python",
   "name": "python3"
  },
  "language_info": {
   "codemirror_mode": {
    "name": "ipython",
    "version": 3
   },
   "file_extension": ".py",
   "mimetype": "text/x-python",
   "name": "python",
   "nbconvert_exporter": "python",
   "pygments_lexer": "ipython3",
   "version": "3.7.3"
  }
 },
 "nbformat": 4,
 "nbformat_minor": 2
}
